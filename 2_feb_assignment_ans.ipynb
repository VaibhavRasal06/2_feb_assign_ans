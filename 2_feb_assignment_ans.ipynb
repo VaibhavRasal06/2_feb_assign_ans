{
 "cells": [
  {
   "cell_type": "markdown",
   "id": "e2b45465-7527-4fc6-856e-34df83d7f827",
   "metadata": {},
   "source": [
    "### Q.1\n",
    "\n",
    "chracterstics of Tuples :\n",
    "tuples write in Parentheses.\n",
    "tuples is used to store the data that may be string, numbers,boolean etc.\n",
    "we cannot change any value in a existance touple.\n",
    "but we can change in list.\n",
    "Tuple are basically an Immutabality where it is is not going to alllow to change any element at a particular index."
   ]
  },
  {
   "cell_type": "markdown",
   "id": "17bea891-2660-43cd-b4a8-43ab8c806a11",
   "metadata": {},
   "source": [
    "### Q.2"
   ]
  },
  {
   "cell_type": "markdown",
   "id": "28ca4ce2-37ac-4106-b2ea-a0c992cf9481",
   "metadata": {},
   "source": [
    "Tuples have only two built-in methods as compared to lists because tuples are immutable in Python.\n",
    "Once a tuple is created, its contents cannot be modified.\n",
    "This means that there is no need for methods like append(), remove(), or pop() in tuples,\n",
    "as these methods modify the contents of a list"
   ]
  },
  {
   "cell_type": "code",
   "execution_count": 64,
   "id": "8afc268f-dbea-4612-81e7-9c64e215c40a",
   "metadata": {},
   "outputs": [],
   "source": [
    "t1 = (\"avinash\",\"anup\",\"anamika\",\"avinash\")"
   ]
  },
  {
   "cell_type": "code",
   "execution_count": 65,
   "id": "2a470c7f-49fa-4c3b-8cca-6799366f08fb",
   "metadata": {},
   "outputs": [
    {
     "data": {
      "text/plain": [
       "2"
      ]
     },
     "execution_count": 65,
     "metadata": {},
     "output_type": "execute_result"
    }
   ],
   "source": [
    "t1.count(\"avinash\")"
   ]
  },
  {
   "cell_type": "code",
   "execution_count": 66,
   "id": "a995f9b9-ad55-4e47-a54c-418fd91235ee",
   "metadata": {},
   "outputs": [
    {
     "data": {
      "text/plain": [
       "2"
      ]
     },
     "execution_count": 66,
     "metadata": {},
     "output_type": "execute_result"
    }
   ],
   "source": [
    "t1.index(\"anamika\")"
   ]
  },
  {
   "cell_type": "code",
   "execution_count": null,
   "id": "bade018e-7b28-4f45-85c1-515a893db723",
   "metadata": {},
   "outputs": [],
   "source": []
  },
  {
   "cell_type": "markdown",
   "id": "38a286a1-41da-496e-b8ce-2f076df29e03",
   "metadata": {},
   "source": [
    "### Q.3\n",
    "in the python set datatype removes duplicates or repeatated numbers or strings.\n",
    "\n",
    "in below example it shown."
   ]
  },
  {
   "cell_type": "code",
   "execution_count": 1,
   "id": "fd35b8c3-e305-49f3-8aec-a622bfa6046d",
   "metadata": {},
   "outputs": [],
   "source": [
    "s1 = {1,2,3,4,5,2,3,6,8,9,4,6,8,0,8,5}"
   ]
  },
  {
   "cell_type": "code",
   "execution_count": 2,
   "id": "7fcdf9cc-b6cb-4675-85c8-2438bfe03649",
   "metadata": {},
   "outputs": [
    {
     "data": {
      "text/plain": [
       "{0, 1, 2, 3, 4, 5, 6, 8, 9}"
      ]
     },
     "execution_count": 2,
     "metadata": {},
     "output_type": "execute_result"
    }
   ],
   "source": [
    "s1"
   ]
  },
  {
   "cell_type": "code",
   "execution_count": 3,
   "id": "d48b0711-8694-478e-8577-9272eadb3268",
   "metadata": {},
   "outputs": [],
   "source": [
    "List = [1, 1, 1, 2, 1, 3, 1, 4, 2, 1, 2, 2, 2, 3, 2, 4, 3, 1, 3, 2, 3, 3, 3, 4, 4, 1, 4, 2, 4, 3, 4, 4]"
   ]
  },
  {
   "cell_type": "code",
   "execution_count": 7,
   "id": "f9a57efb-5768-4232-ae24-79b9bf0c4f83",
   "metadata": {},
   "outputs": [
    {
     "data": {
      "text/plain": [
       "{1, 2, 3, 4}"
      ]
     },
     "execution_count": 7,
     "metadata": {},
     "output_type": "execute_result"
    }
   ],
   "source": [
    "set(List)"
   ]
  },
  {
   "cell_type": "code",
   "execution_count": 8,
   "id": "851ef862-3c4b-4803-ab10-d486c8742ee9",
   "metadata": {},
   "outputs": [],
   "source": [
    "# in above we cannot remove duplicates in list so i can convert it into set to remove all the duplicates"
   ]
  },
  {
   "cell_type": "markdown",
   "id": "fd9429af-d2a0-427d-b787-e6d19ce7bf2c",
   "metadata": {},
   "source": [
    "### Q. 4"
   ]
  },
  {
   "cell_type": "code",
   "execution_count": 20,
   "id": "9cd04c91-0fc3-47a3-a5a2-1ddd8673911c",
   "metadata": {},
   "outputs": [],
   "source": [
    "s = {\"vaibhav\", \"vikeee\", \"dhiraj\",\"shubham\",\"suraj\"}"
   ]
  },
  {
   "cell_type": "code",
   "execution_count": 21,
   "id": "cfe5648c-bb4a-4e4f-8df0-6b616e8cec17",
   "metadata": {},
   "outputs": [],
   "source": [
    "s1 = {\"vaibhav\", \"sujal\",\"akash\",\"sarthak\",\"dhiraj\"}"
   ]
  },
  {
   "cell_type": "code",
   "execution_count": 22,
   "id": "b68016b1-345c-4d6d-9c4a-29aa21b03e1a",
   "metadata": {},
   "outputs": [
    {
     "data": {
      "text/plain": [
       "{'akash',\n",
       " 'dhiraj',\n",
       " 'sarthak',\n",
       " 'shubham',\n",
       " 'sujal',\n",
       " 'suraj',\n",
       " 'vaibhav',\n",
       " 'vikeee'}"
      ]
     },
     "execution_count": 22,
     "metadata": {},
     "output_type": "execute_result"
    }
   ],
   "source": [
    "s.union(s1)"
   ]
  },
  {
   "cell_type": "markdown",
   "id": "e578f335-0ef7-4678-9a69-904b9ab191b6",
   "metadata": {},
   "source": [
    "The union() method is used to it cannot repeat any data from 2 sets. in above example we can see it."
   ]
  },
  {
   "cell_type": "code",
   "execution_count": 23,
   "id": "dd42c68c-2895-471e-bd4a-5b5ba2f96d48",
   "metadata": {},
   "outputs": [],
   "source": [
    "s = {\"om\",\"akshay\"}"
   ]
  },
  {
   "cell_type": "code",
   "execution_count": 24,
   "id": "619109fb-1145-4e05-b075-48b0f2d14065",
   "metadata": {},
   "outputs": [],
   "source": [
    "s.update(s1)"
   ]
  },
  {
   "cell_type": "code",
   "execution_count": 25,
   "id": "c2e384a6-c234-4fda-8ae1-e3c573dd6a56",
   "metadata": {},
   "outputs": [
    {
     "data": {
      "text/plain": [
       "{'akash', 'akshay', 'dhiraj', 'om', 'sarthak', 'sujal', 'vaibhav'}"
      ]
     },
     "execution_count": 25,
     "metadata": {},
     "output_type": "execute_result"
    }
   ],
   "source": [
    "s"
   ]
  },
  {
   "cell_type": "markdown",
   "id": "dfccd849-2030-4a87-8a0b-7c5f968cd7da",
   "metadata": {},
   "source": [
    "update() function is used to print updated data. if we add something data later then we can update our data using this function. and it print all new data together with old.\n",
    "and also it print in alphabatical order."
   ]
  },
  {
   "cell_type": "code",
   "execution_count": null,
   "id": "89ceff52-290d-4a66-b5bb-32ada258ed8d",
   "metadata": {},
   "outputs": [],
   "source": [
    "Q5. What is a dictionary? Give an example. Also, state whether a dictionary is ordered or unordered."
   ]
  },
  {
   "cell_type": "code",
   "execution_count": null,
   "id": "7e8e89aa-8d11-4ff4-b544-822a879e9e0b",
   "metadata": {},
   "outputs": [],
   "source": [
    "dictionary is used to stores datatypes. like tuples and set.\n",
    "in dictionary we can add keys.\n",
    "in dictonary we can add only tuples as key."
   ]
  },
  {
   "cell_type": "code",
   "execution_count": 29,
   "id": "67b58aa4-da86-407b-849c-9738e570a476",
   "metadata": {},
   "outputs": [],
   "source": [
    "d = {\"name\" : \"vaibhav\", \"age\" : \"21\", \"standard\" : \"3rd yr\"}"
   ]
  },
  {
   "cell_type": "code",
   "execution_count": 30,
   "id": "9b12f9be-a3f6-4b51-bae7-63b819f5fe04",
   "metadata": {},
   "outputs": [
    {
     "data": {
      "text/plain": [
       "{'name': 'vaibhav', 'age': '21', 'standard': '3rd yr'}"
      ]
     },
     "execution_count": 30,
     "metadata": {},
     "output_type": "execute_result"
    }
   ],
   "source": [
    "d"
   ]
  },
  {
   "cell_type": "markdown",
   "id": "1ff4aff3-47ed-4222-bebb-95f2adfed862",
   "metadata": {},
   "source": [
    "Dictionary in Python is an unordered collection of data values, used to store data values like a map, which unlike other Data Types that hold only single value as an element,\n",
    "Dictionary holds key:value pair.\n",
    "Key-value is provided in the dictionary to make it more optimized"
   ]
  },
  {
   "cell_type": "markdown",
   "id": "d8625f26-bc8b-40eb-8979-ec9d3c717cad",
   "metadata": {},
   "source": [
    "### Q.6\n",
    "yes we can create nested dictionary.\n",
    "nested dictionary is used to craete dictonary inside dictionary"
   ]
  },
  {
   "cell_type": "code",
   "execution_count": 33,
   "id": "4be5cf46-e912-4686-ae71-03696c7ff701",
   "metadata": {},
   "outputs": [],
   "source": [
    "d1 = {\"old_players\" : [\"sachin\", \"dhoni\",\"yuvraj\",\"harbhajan\"],\"new_players\" : (\"virat\",\"rohit\",\"suryakumar\",\"hardik\")}"
   ]
  },
  {
   "cell_type": "code",
   "execution_count": 34,
   "id": "45b88e4a-0aad-48c1-9800-7166e8b3318a",
   "metadata": {},
   "outputs": [
    {
     "data": {
      "text/plain": [
       "{'old_players': ['sachin', 'dhoni', 'yuvraj', 'harbhajan'],\n",
       " 'new_players': ('virat', 'rohit', 'suryakumar', 'hardik')}"
      ]
     },
     "execution_count": 34,
     "metadata": {},
     "output_type": "execute_result"
    }
   ],
   "source": [
    "d1"
   ]
  },
  {
   "cell_type": "code",
   "execution_count": null,
   "id": "0ab65aff-33ad-4998-8dcf-2380722a2830",
   "metadata": {},
   "outputs": [],
   "source": [
    "Q7. Using setdefault() method, create key named topics in the given dictionary and also add the value of\n",
    "the key as this list ['Python', 'Machine Learning’, 'Deep Learning']\n",
    "dict1 = {'language' : 'Python', 'course': 'Data Science Masters'}"
   ]
  },
  {
   "cell_type": "markdown",
   "id": "e63ce548-450f-4073-884c-298e6e4aa10f",
   "metadata": {},
   "source": [
    "### Q.7"
   ]
  },
  {
   "cell_type": "code",
   "execution_count": 37,
   "id": "f8e340fd-12d0-4c03-a485-d02f85a43045",
   "metadata": {},
   "outputs": [],
   "source": [
    "dict1 = {'language' : 'Python', 'course': 'Data Science Masters'}\n",
    "list = [\"Python\", \"Machine Learning\", \"deep learning\"]"
   ]
  },
  {
   "cell_type": "code",
   "execution_count": 46,
   "id": "424644aa-76c6-4d95-9739-4061210f317c",
   "metadata": {},
   "outputs": [
    {
     "data": {
      "text/plain": [
       "['Python', 'Machine Learning', 'Deep Learning']"
      ]
     },
     "execution_count": 46,
     "metadata": {},
     "output_type": "execute_result"
    }
   ],
   "source": [
    "dict1 = {'language' : 'Python', 'course': 'Data Science Masters'}\n",
    "dict1.setdefault('topics', ['Python', 'Machine Learning', 'Deep Learning'])"
   ]
  },
  {
   "cell_type": "markdown",
   "id": "d6b2b971-3c14-4e7b-8c27-d0b555e12eb1",
   "metadata": {},
   "source": [
    "### Q.8"
   ]
  },
  {
   "cell_type": "code",
   "execution_count": 47,
   "id": "2f03470b-2809-44e7-86db-0bd14ee9ad8e",
   "metadata": {},
   "outputs": [],
   "source": [
    "dict1 = {'Sport': 'Cricket' , 'Teams': ['India', 'Australia', 'England', 'South Africa', 'Sri Lanka', 'New Zealand']}"
   ]
  },
  {
   "cell_type": "code",
   "execution_count": 49,
   "id": "bb54639d-ba4f-4048-a5c1-a69c5ebf52d8",
   "metadata": {},
   "outputs": [
    {
     "data": {
      "text/plain": [
       "{'Sport': 'Cricket',\n",
       " 'Teams': ['India',\n",
       "  'Australia',\n",
       "  'England',\n",
       "  'South Africa',\n",
       "  'Sri Lanka',\n",
       "  'New Zealand']}"
      ]
     },
     "execution_count": 49,
     "metadata": {},
     "output_type": "execute_result"
    }
   ],
   "source": [
    "dict1"
   ]
  },
  {
   "cell_type": "code",
   "execution_count": 50,
   "id": "3aa8b6f7-b80e-40a8-89de-c59d31df56c0",
   "metadata": {},
   "outputs": [
    {
     "data": {
      "text/plain": [
       "dict_values(['Cricket', ['India', 'Australia', 'England', 'South Africa', 'Sri Lanka', 'New Zealand']])"
      ]
     },
     "execution_count": 50,
     "metadata": {},
     "output_type": "execute_result"
    }
   ],
   "source": [
    "dict1.values()"
   ]
  },
  {
   "cell_type": "code",
   "execution_count": 54,
   "id": "1a37856f-114d-47b8-bf9d-ead32b3f3930",
   "metadata": {},
   "outputs": [
    {
     "data": {
      "text/plain": [
       "dict_items([('Sport', 'Cricket')])"
      ]
     },
     "execution_count": 54,
     "metadata": {},
     "output_type": "execute_result"
    }
   ],
   "source": [
    "dict1.items()"
   ]
  },
  {
   "cell_type": "code",
   "execution_count": 55,
   "id": "cafde0ea-73c3-42ef-adcb-1a183a5dd3f5",
   "metadata": {},
   "outputs": [
    {
     "data": {
      "text/plain": [
       "dict_keys(['Sport'])"
      ]
     },
     "execution_count": 55,
     "metadata": {},
     "output_type": "execute_result"
    }
   ],
   "source": [
    "dict1.keys()"
   ]
  }
 ],
 "metadata": {
  "kernelspec": {
   "display_name": "Python 3 (ipykernel)",
   "language": "python",
   "name": "python3"
  },
  "language_info": {
   "codemirror_mode": {
    "name": "ipython",
    "version": 3
   },
   "file_extension": ".py",
   "mimetype": "text/x-python",
   "name": "python",
   "nbconvert_exporter": "python",
   "pygments_lexer": "ipython3",
   "version": "3.10.8"
  }
 },
 "nbformat": 4,
 "nbformat_minor": 5
}
